{
 "cells": [
  {
   "cell_type": "markdown",
   "id": "baffa477-7aaf-458c-9ddc-638f1b9914e6",
   "metadata": {},
   "source": [
    "Lecture 1.0"
   ]
  },
  {
   "cell_type": "code",
   "execution_count": 2,
   "id": "50a197d1-6ae4-4ea1-895e-db63c3afd836",
   "metadata": {
    "tags": []
   },
   "outputs": [],
   "source": [
    "from qiskit import QuantumCircuit, QuantumRegister"
   ]
  },
  {
   "cell_type": "code",
   "execution_count": 3,
   "id": "76772162-e718-4e89-8fe6-1ac110527b36",
   "metadata": {
    "tags": []
   },
   "outputs": [
    {
     "ename": "NameError",
     "evalue": "name 'qubits' is not defined",
     "output_type": "error",
     "traceback": [
      "\u001b[0;31m---------------------------------------------------------------------------\u001b[0m",
      "\u001b[0;31mNameError\u001b[0m                                 Traceback (most recent call last)",
      "Cell \u001b[0;32mIn[3], line 2\u001b[0m\n\u001b[1;32m      1\u001b[0m quibits \u001b[38;5;241m=\u001b[39m QuantumRegister(\u001b[38;5;241m2\u001b[39m, name\u001b[38;5;241m=\u001b[39m\u001b[38;5;124m'\u001b[39m\u001b[38;5;124mq\u001b[39m\u001b[38;5;124m'\u001b[39m)\n\u001b[0;32m----> 2\u001b[0m circuit \u001b[38;5;241m=\u001b[39m QuantumCircuit(\u001b[43mqubits\u001b[49m)\n\u001b[1;32m      4\u001b[0m q0,q1 \u001b[38;5;241m=\u001b[39m quibits\n\u001b[1;32m      5\u001b[0m circuit\u001b[38;5;241m.\u001b[39mh(q0)\n",
      "\u001b[0;31mNameError\u001b[0m: name 'qubits' is not defined"
     ]
    }
   ],
   "source": [
    "quibits = QuantumRegister(2, name='q')\n",
    "circuit = QuantumCircuit(qubits)\n",
    "\n",
    "q0,q1 = quibits\n",
    "circuit.h(q0)\n",
    "circuit.cx(q0, q1)\n",
    "circuit.measure_all()\n",
    "\n",
    "circuit.draw(\"mpl\")\n"
   ]
  }
 ],
 "metadata": {
  "kernelspec": {
   "display_name": "Python 3 [QGSS-24]",
   "language": "python",
   "name": "python3_ibm_so_uirbz9"
  },
  "language_info": {
   "codemirror_mode": {
    "name": "ipython",
    "version": 3
   },
   "file_extension": ".py",
   "mimetype": "text/x-python",
   "name": "python",
   "nbconvert_exporter": "python",
   "pygments_lexer": "ipython3",
   "version": "3.9.18"
  }
 },
 "nbformat": 4,
 "nbformat_minor": 5
}
